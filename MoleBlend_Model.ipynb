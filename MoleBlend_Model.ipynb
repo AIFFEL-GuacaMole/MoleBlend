{
  "nbformat": 4,
  "nbformat_minor": 0,
  "metadata": {
    "colab": {
      "provenance": []
    },
    "kernelspec": {
      "name": "python3",
      "display_name": "Python 3"
    },
    "language_info": {
      "name": "python"
    }
  },
  "cells": [
    {
      "cell_type": "code",
      "execution_count": 4,
      "metadata": {
        "colab": {
          "base_uri": "https://localhost:8080/"
        },
        "id": "3qPgl0trz3ba",
        "outputId": "f7aeae11-9d10-4b6a-a702-784938dddef5"
      },
      "outputs": [
        {
          "output_type": "stream",
          "name": "stdout",
          "text": [
            "Loss: 0.6969464421272278\n"
          ]
        }
      ],
      "source": [
        "import torch\n",
        "import torch.nn as nn\n",
        "import torch.nn.functional as F\n",
        "from torch_geometric.nn import GCNConv, global_mean_pool\n",
        "import os\n",
        "os.environ['TORCH_COMPILE'] = '0'\n",
        "os.environ['CUDA_VISIBLE_DEVICES'] = '-1'\n",
        "\n",
        "\n",
        "class MoleBlendModel(nn.Module):\n",
        "    def __init__(self, node_feat_dim, edge_feat_dim, hidden_dim, num_classes):\n",
        "        super(MoleBlendModel, self).__init__()\n",
        "        self.node_encoder = nn.Linear(node_feat_dim, hidden_dim)\n",
        "        self.edge_encoder = nn.Linear(edge_feat_dim, hidden_dim)\n",
        "        self.conv1 = GCNConv(hidden_dim, hidden_dim)\n",
        "        self.conv2 = GCNConv(hidden_dim, hidden_dim)\n",
        "        self.fc = nn.Linear(hidden_dim, num_classes)\n",
        "\n",
        "    def forward(self, data):\n",
        "        x, edge_index, batch = data.x, data.edge_index, data.batch\n",
        "        edge_attr = data.edge_attr\n",
        "\n",
        "        # Encode node and edge features\n",
        "        x = self.node_encoder(x)\n",
        "        edge_attr = self.edge_encoder(edge_attr)\n",
        "\n",
        "        # GCN Layers\n",
        "        x = F.relu(self.conv1(x, edge_index))\n",
        "        x = F.relu(self.conv2(x, edge_index))\n",
        "\n",
        "        # Global pooling and classification\n",
        "        x = global_mean_pool(x, batch)\n",
        "        out = self.fc(x)\n",
        "\n",
        "        return out\n",
        "\n",
        "\n",
        "# Example usage\n",
        "if __name__ == \"__main__\":\n",
        "    from torch_geometric.data import Data\n",
        "\n",
        "    # Dummy data for demonstration\n",
        "    node_features = torch.rand(10, 4)  # 10 nodes with 4 features each\n",
        "    edge_index = torch.tensor([[0, 1, 2], [1, 2, 0]])  # Edges between nodes\n",
        "    edge_features = torch.rand(3, 4)  # 3 edges with 4 features each\n",
        "    batch = torch.tensor([0, 0, 0, 0, 0, 1, 1, 1, 1, 1])  # Batch info\n",
        "\n",
        "    data = Data(x=node_features, edge_index=edge_index, edge_attr=edge_features, batch=batch)\n",
        "\n",
        "    # Model setup\n",
        "    model = MoleBlendModel(node_feat_dim=4, edge_feat_dim=4, hidden_dim=128, num_classes=2)\n",
        "    optimizer = torch.optim.Adam(model.parameters(), lr=0.001)\n",
        "    criterion = nn.CrossEntropyLoss()\n",
        "\n",
        "    # Training step\n",
        "    model.train()\n",
        "    optimizer.zero_grad()\n",
        "    output = model(data)\n",
        "    labels = torch.tensor([0, 1])  # Example labels\n",
        "    loss = criterion(output, labels)\n",
        "    loss.backward()\n",
        "    optimizer.step()\n",
        "\n",
        "    print(f\"Loss: {loss.item()}\")"
      ]
    },
    {
      "cell_type": "code",
      "source": [],
      "metadata": {
        "id": "i65CjIJs2KE7"
      },
      "execution_count": null,
      "outputs": []
    }
  ]
}